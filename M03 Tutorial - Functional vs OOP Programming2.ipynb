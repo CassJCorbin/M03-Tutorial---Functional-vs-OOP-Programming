{
 "cells": [
  {
   "cell_type": "code",
   "execution_count": 4,
   "id": "015113b9-c71d-41f3-acaf-eff81d4de246",
   "metadata": {},
   "outputs": [
    {
     "name": "stdout",
     "output_type": "stream",
     "text": [
      "5 is present at position 4.\n"
     ]
    }
   ],
   "source": [
    "#Cassandra Corbin\n",
    "#April 8, 2024\n",
    "#Program exercise binary search\n",
    "\n",
    "\n",
    "def binary_search(arr, K): #define\n",
    "    left, right = 0, len(arr) - 1\n",
    "\n",
    "    while left <= right: #Begin loop\n",
    "        mid = left + (right - left) // 2\n",
    "\n",
    "        if arr[mid] == K:\n",
    "            return mid  #Looking for the array \"K\"\n",
    "        elif arr[mid] < K:\n",
    "            left = mid + 1\n",
    "        else:\n",
    "            right = mid - 1\n",
    "\n",
    "    return -1  #The array is not found \n",
    "\n",
    "# Example usage:\n",
    "sorted_array = [1, 2, 3, 4, 5, 6, 7, 8, 9, 10]\n",
    "K = 5\n",
    "position = binary_search(sorted_array, K)\n",
    "\n",
    "if position != -1:\n",
    "    print(f\"{K} is present at position {position}.\") #Output\n",
    "else:\n",
    "    print(f\"{K} is not present in the array.\") #Output"
   ]
  },
  {
   "cell_type": "code",
   "execution_count": null,
   "id": "ad6796dd-2af3-488e-a381-e692d098755a",
   "metadata": {},
   "outputs": [],
   "source": []
  },
  {
   "cell_type": "code",
   "execution_count": null,
   "id": "647bf12d-81be-4dce-860d-ba6a0398b64d",
   "metadata": {},
   "outputs": [],
   "source": []
  }
 ],
 "metadata": {
  "kernelspec": {
   "display_name": "Python 3 (ipykernel)",
   "language": "python",
   "name": "python3"
  },
  "language_info": {
   "codemirror_mode": {
    "name": "ipython",
    "version": 3
   },
   "file_extension": ".py",
   "mimetype": "text/x-python",
   "name": "python",
   "nbconvert_exporter": "python",
   "pygments_lexer": "ipython3",
   "version": "3.11.7"
  }
 },
 "nbformat": 4,
 "nbformat_minor": 5
}
