{
 "cells": [
  {
   "cell_type": "code",
   "execution_count": 1,
   "id": "8778a066-14c6-4bd5-bfbf-d7f02dfa14d4",
   "metadata": {},
   "outputs": [
    {
     "name": "stdout",
     "output_type": "stream",
     "text": [
      "[0, 0, 0, 1, 1, 2, 2, 2]\n"
     ]
    }
   ],
   "source": [
    "#Cassandra Corbin\n",
    "#April 8, 2024\n",
    "#This program will assort a line of arrays in ascending order\n",
    "\n",
    "\n",
    "def ZOT(arr):  #define\n",
    "    low = count = 0\n",
    "    high = len(arr)-1 \n",
    "    while(count<=high):\n",
    "        \n",
    "        #sorts the numbers in order\n",
    "        if arr[count] == 2:\n",
    "            arr[count],arr[high] = arr[high],arr[count]\n",
    "            high = high - 1\n",
    "            \n",
    "        #Incriments \n",
    "        elif arr[count] == 1:\n",
    "            count = count +1\n",
    "            \n",
    "        # sorts the numbers in order\n",
    "        elif arr[count] == 0:\n",
    "            arr[count],arr[low] = arr[low],arr[count]\n",
    "            count = count + 1\n",
    "            low = low + 1\n",
    "            \n",
    "        else:\n",
    "            return -1\n",
    "            \n",
    "            \n",
    "    return arr\n",
    "if __name__==\"__main__\":\n",
    "    arr = [0,1,2,1,2,0,2,0]\n",
    "    print(ZOT(arr))\n"
   ]
  },
  {
   "cell_type": "code",
   "execution_count": null,
   "id": "e5e4fe14-4a04-429d-a57f-77e99f9b71ff",
   "metadata": {},
   "outputs": [],
   "source": []
  }
 ],
 "metadata": {
  "kernelspec": {
   "display_name": "Python 3 (ipykernel)",
   "language": "python",
   "name": "python3"
  },
  "language_info": {
   "codemirror_mode": {
    "name": "ipython",
    "version": 3
   },
   "file_extension": ".py",
   "mimetype": "text/x-python",
   "name": "python",
   "nbconvert_exporter": "python",
   "pygments_lexer": "ipython3",
   "version": "3.11.7"
  }
 },
 "nbformat": 4,
 "nbformat_minor": 5
}
